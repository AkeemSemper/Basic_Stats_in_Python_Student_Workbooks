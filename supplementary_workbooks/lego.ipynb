{
 "cells": [
  {
   "cell_type": "markdown",
   "metadata": {},
   "source": [
    "import pandas as pd"
   ]
  },
  {
   "cell_type": "code",
   "execution_count": 60,
   "metadata": {},
   "outputs": [],
   "source": [
    "import pandas as pd\n",
    "import numpy as np\n",
    "import datetime\n",
    "import seaborn as sns"
   ]
  },
  {
   "cell_type": "code",
   "execution_count": 27,
   "metadata": {},
   "outputs": [
    {
     "name": "stderr",
     "output_type": "stream",
     "text": [
      "/Users/akeems/opt/anaconda3/lib/python3.8/site-packages/IPython/core/interactiveshell.py:3441: DtypeWarning: Columns (8) have mixed types.Specify dtype option on import or set low_memory=False.\n",
      "  exec(code_obj, self.user_global_ns, self.user_ns)\n"
     ]
    }
   ],
   "source": [
    "dBig = pd.read_csv(\"Weather_Data__Hourly__-_Environment_Canada.csv\")"
   ]
  },
  {
   "cell_type": "code",
   "execution_count": 29,
   "metadata": {},
   "outputs": [
    {
     "data": {
      "text/html": [
       "<div>\n",
       "<style scoped>\n",
       "    .dataframe tbody tr th:only-of-type {\n",
       "        vertical-align: middle;\n",
       "    }\n",
       "\n",
       "    .dataframe tbody tr th {\n",
       "        vertical-align: top;\n",
       "    }\n",
       "\n",
       "    .dataframe thead th {\n",
       "        text-align: right;\n",
       "    }\n",
       "</style>\n",
       "<table border=\"1\" class=\"dataframe\">\n",
       "  <thead>\n",
       "    <tr style=\"text-align: right;\">\n",
       "      <th></th>\n",
       "      <th>Row ID</th>\n",
       "      <th>Station ID</th>\n",
       "      <th>Station Name</th>\n",
       "      <th>Station Province</th>\n",
       "      <th>Station Latitude</th>\n",
       "      <th>Station Longitude</th>\n",
       "      <th>Location</th>\n",
       "      <th>Station Elevation (m)</th>\n",
       "      <th>Station Climate Identifier</th>\n",
       "      <th>Station WMO Identifier</th>\n",
       "      <th>...</th>\n",
       "      <th>Wind Speed (km/h)</th>\n",
       "      <th>Visibility (km)</th>\n",
       "      <th>Air Pressure (kPa)</th>\n",
       "      <th>Humidex</th>\n",
       "      <th>Wind Chill (degrees C)</th>\n",
       "      <th>DT</th>\n",
       "      <th>Hour</th>\n",
       "      <th>DateMD</th>\n",
       "      <th>Year</th>\n",
       "      <th>Month</th>\n",
       "    </tr>\n",
       "  </thead>\n",
       "  <tbody>\n",
       "    <tr>\n",
       "      <th>0</th>\n",
       "      <td>4685020191208070000</td>\n",
       "      <td>46850</td>\n",
       "      <td>THORSBY AGCM</td>\n",
       "      <td>ALBERTA</td>\n",
       "      <td>53.22</td>\n",
       "      <td>-113.89</td>\n",
       "      <td>(53.22, -113.89)</td>\n",
       "      <td>754.0</td>\n",
       "      <td>3016441</td>\n",
       "      <td>71504.0</td>\n",
       "      <td>...</td>\n",
       "      <td>NaN</td>\n",
       "      <td>NaN</td>\n",
       "      <td>NaN</td>\n",
       "      <td>NaN</td>\n",
       "      <td>NaN</td>\n",
       "      <td>2019-12-08 07:00:00</td>\n",
       "      <td>7</td>\n",
       "      <td>12-08</td>\n",
       "      <td>2019</td>\n",
       "      <td>12</td>\n",
       "    </tr>\n",
       "    <tr>\n",
       "      <th>1</th>\n",
       "      <td>4685020191208080000</td>\n",
       "      <td>46850</td>\n",
       "      <td>THORSBY AGCM</td>\n",
       "      <td>ALBERTA</td>\n",
       "      <td>53.22</td>\n",
       "      <td>-113.89</td>\n",
       "      <td>(53.22, -113.89)</td>\n",
       "      <td>754.0</td>\n",
       "      <td>3016441</td>\n",
       "      <td>71504.0</td>\n",
       "      <td>...</td>\n",
       "      <td>NaN</td>\n",
       "      <td>NaN</td>\n",
       "      <td>NaN</td>\n",
       "      <td>NaN</td>\n",
       "      <td>NaN</td>\n",
       "      <td>2019-12-08 08:00:00</td>\n",
       "      <td>8</td>\n",
       "      <td>12-08</td>\n",
       "      <td>2019</td>\n",
       "      <td>12</td>\n",
       "    </tr>\n",
       "    <tr>\n",
       "      <th>2</th>\n",
       "      <td>4685020191208100000</td>\n",
       "      <td>46850</td>\n",
       "      <td>THORSBY AGCM</td>\n",
       "      <td>ALBERTA</td>\n",
       "      <td>53.22</td>\n",
       "      <td>-113.89</td>\n",
       "      <td>(53.22, -113.89)</td>\n",
       "      <td>754.0</td>\n",
       "      <td>3016441</td>\n",
       "      <td>71504.0</td>\n",
       "      <td>...</td>\n",
       "      <td>NaN</td>\n",
       "      <td>NaN</td>\n",
       "      <td>NaN</td>\n",
       "      <td>NaN</td>\n",
       "      <td>NaN</td>\n",
       "      <td>2019-12-08 10:00:00</td>\n",
       "      <td>10</td>\n",
       "      <td>12-08</td>\n",
       "      <td>2019</td>\n",
       "      <td>12</td>\n",
       "    </tr>\n",
       "    <tr>\n",
       "      <th>3</th>\n",
       "      <td>4685020191208110000</td>\n",
       "      <td>46850</td>\n",
       "      <td>THORSBY AGCM</td>\n",
       "      <td>ALBERTA</td>\n",
       "      <td>53.22</td>\n",
       "      <td>-113.89</td>\n",
       "      <td>(53.22, -113.89)</td>\n",
       "      <td>754.0</td>\n",
       "      <td>3016441</td>\n",
       "      <td>71504.0</td>\n",
       "      <td>...</td>\n",
       "      <td>NaN</td>\n",
       "      <td>NaN</td>\n",
       "      <td>NaN</td>\n",
       "      <td>NaN</td>\n",
       "      <td>NaN</td>\n",
       "      <td>2019-12-08 11:00:00</td>\n",
       "      <td>11</td>\n",
       "      <td>12-08</td>\n",
       "      <td>2019</td>\n",
       "      <td>12</td>\n",
       "    </tr>\n",
       "    <tr>\n",
       "      <th>4</th>\n",
       "      <td>4685020191208120000</td>\n",
       "      <td>46850</td>\n",
       "      <td>THORSBY AGCM</td>\n",
       "      <td>ALBERTA</td>\n",
       "      <td>53.22</td>\n",
       "      <td>-113.89</td>\n",
       "      <td>(53.22, -113.89)</td>\n",
       "      <td>754.0</td>\n",
       "      <td>3016441</td>\n",
       "      <td>71504.0</td>\n",
       "      <td>...</td>\n",
       "      <td>NaN</td>\n",
       "      <td>NaN</td>\n",
       "      <td>NaN</td>\n",
       "      <td>NaN</td>\n",
       "      <td>NaN</td>\n",
       "      <td>2019-12-08 12:00:00</td>\n",
       "      <td>12</td>\n",
       "      <td>12-08</td>\n",
       "      <td>2019</td>\n",
       "      <td>12</td>\n",
       "    </tr>\n",
       "  </tbody>\n",
       "</table>\n",
       "<p>5 rows × 27 columns</p>\n",
       "</div>"
      ],
      "text/plain": [
       "                Row ID  Station ID  Station Name Station Province  \\\n",
       "0  4685020191208070000       46850  THORSBY AGCM          ALBERTA   \n",
       "1  4685020191208080000       46850  THORSBY AGCM          ALBERTA   \n",
       "2  4685020191208100000       46850  THORSBY AGCM          ALBERTA   \n",
       "3  4685020191208110000       46850  THORSBY AGCM          ALBERTA   \n",
       "4  4685020191208120000       46850  THORSBY AGCM          ALBERTA   \n",
       "\n",
       "   Station Latitude  Station Longitude          Location  \\\n",
       "0             53.22            -113.89  (53.22, -113.89)   \n",
       "1             53.22            -113.89  (53.22, -113.89)   \n",
       "2             53.22            -113.89  (53.22, -113.89)   \n",
       "3             53.22            -113.89  (53.22, -113.89)   \n",
       "4             53.22            -113.89  (53.22, -113.89)   \n",
       "\n",
       "   Station Elevation (m) Station Climate Identifier  Station WMO Identifier  \\\n",
       "0                  754.0                    3016441                 71504.0   \n",
       "1                  754.0                    3016441                 71504.0   \n",
       "2                  754.0                    3016441                 71504.0   \n",
       "3                  754.0                    3016441                 71504.0   \n",
       "4                  754.0                    3016441                 71504.0   \n",
       "\n",
       "   ... Wind Speed (km/h) Visibility (km) Air Pressure (kPa)  Humidex  \\\n",
       "0  ...               NaN             NaN                NaN      NaN   \n",
       "1  ...               NaN             NaN                NaN      NaN   \n",
       "2  ...               NaN             NaN                NaN      NaN   \n",
       "3  ...               NaN             NaN                NaN      NaN   \n",
       "4  ...               NaN             NaN                NaN      NaN   \n",
       "\n",
       "   Wind Chill (degrees C)                  DT  Hour  DateMD  Year  Month  \n",
       "0                     NaN 2019-12-08 07:00:00     7   12-08  2019     12  \n",
       "1                     NaN 2019-12-08 08:00:00     8   12-08  2019     12  \n",
       "2                     NaN 2019-12-08 10:00:00    10   12-08  2019     12  \n",
       "3                     NaN 2019-12-08 11:00:00    11   12-08  2019     12  \n",
       "4                     NaN 2019-12-08 12:00:00    12   12-08  2019     12  \n",
       "\n",
       "[5 rows x 27 columns]"
      ]
     },
     "execution_count": 29,
     "metadata": {},
     "output_type": "execute_result"
    }
   ],
   "source": [
    "#Process data \n",
    "dBig[\"DT\"] = pd.to_datetime(dBig[\"Date and Time\"])\n",
    "dBig[\"Hour\"] = dBig[\"DT\"].dt.hour\n",
    "dBig['DateMD'] = dBig['DT'].apply(lambda x: x.strftime('%m-%d'))\n",
    "dBig['Year'] = dBig['DT'].dt.year\n",
    "dBig['Month'] = dBig['DT'].dt.month\n",
    "dBig.head()"
   ]
  },
  {
   "cell_type": "markdown",
   "metadata": {},
   "source": [
    "Below take all of the temperature values for each year, and puts them into a series with the name of that year. Those series are then put into a list. \n",
    "\n",
    "If you want to ANOVA, each element of the list temps is a series of one year of temps, you can either loop through the list to access them, or just use the index [0], [1], etc... "
   ]
  },
  {
   "cell_type": "code",
   "execution_count": 57,
   "metadata": {},
   "outputs": [
    {
     "data": {
      "text/plain": [
       "0         -13.7\n",
       "1         -13.5\n",
       "2         -14.0\n",
       "3         -13.6\n",
       "4         -10.7\n",
       "           ... \n",
       "1560044    -2.5\n",
       "1560045     0.9\n",
       "1560046    -1.1\n",
       "1560047    -1.3\n",
       "1560048     0.4\n",
       "Name: 2019, Length: 85806, dtype: float64"
      ]
     },
     "execution_count": 57,
     "metadata": {},
     "output_type": "execute_result"
    }
   ],
   "source": [
    "#All values of temp for a year in one series. \n",
    "#One series per year\n",
    "years = dBig[\"Year\"].unique()\n",
    "temps = []\n",
    "\n",
    "for y in years:\n",
    "    tmp = dBig[dBig[\"Year\"]==y]\n",
    "    tmp2 = pd.Series(tmp[\"Temperature (degrees C)\"], name=y)\n",
    "    tmp2 = tmp2.dropna()\n",
    "    temps.append(tmp2)\n",
    "\n",
    "#Print the first series to see some values. \n",
    "temps[0]"
   ]
  },
  {
   "cell_type": "markdown",
   "metadata": {},
   "source": [
    "You could also chage the part where I put the values into a series. For example, you could add other values (e.g. station name, date) by wrapping them into a tuple. In that case you could use the index to get the \"part\" of the data you want. "
   ]
  },
  {
   "cell_type": "code",
   "execution_count": 49,
   "metadata": {},
   "outputs": [
    {
     "data": {
      "text/plain": [
       "0         2019-12-08 07:00:00\n",
       "1         2019-12-08 08:00:00\n",
       "2         2019-12-08 10:00:00\n",
       "3         2019-12-08 11:00:00\n",
       "4         2019-12-08 12:00:00\n",
       "                  ...        \n",
       "1560044   2019-04-30 23:00:00\n",
       "1560045   2019-04-30 18:00:00\n",
       "1560046   2019-04-30 06:00:00\n",
       "1560047   2019-04-30 01:00:00\n",
       "1560048   2019-04-30 18:00:00\n",
       "Name: DT, Length: 86588, dtype: datetime64[ns]"
      ]
     },
     "execution_count": 49,
     "metadata": {},
     "output_type": "execute_result"
    }
   ],
   "source": [
    "#All values of temp for a year in one series, along with location and date.  \n",
    "#One series per year\n",
    "years = dBig[\"Year\"].unique()\n",
    "temps2 = []\n",
    "\n",
    "for y in years:\n",
    "    tmp = dBig[dBig[\"Year\"]==y]\n",
    "    tmp2 = pd.Series((tmp[\"Temperature (degrees C)\"], tmp[\"Station ID\"], tmp[\"DT\"]), name=y)\n",
    "    tmp2 = tmp2.dropna()\n",
    "    temps2.append(tmp2)\n",
    "\n",
    "#print the first series, the second [] specifies which value to get\n",
    "#temps[0][0]#Temp\n",
    "#temps[0][1]#Station ID\n",
    "temps2[0][2]#Date"
   ]
  },
  {
   "cell_type": "markdown",
   "metadata": {},
   "source": [
    "You could also use a similar loop and replace the YEAR with anything else - you could get one series per station, or day, etc..."
   ]
  }
 ],
 "metadata": {
  "interpreter": {
   "hash": "ea39297c2a3b8433e0e3c4b620aff79df88eb4bda961dfb2311fbafd7efdbd77"
  },
  "kernelspec": {
   "display_name": "Python 3.8.11 64-bit ('base': conda)",
   "language": "python",
   "name": "python3"
  },
  "language_info": {
   "codemirror_mode": {
    "name": "ipython",
    "version": 3
   },
   "file_extension": ".py",
   "mimetype": "text/x-python",
   "name": "python",
   "nbconvert_exporter": "python",
   "pygments_lexer": "ipython3",
   "version": "3.9.7"
  },
  "orig_nbformat": 4
 },
 "nbformat": 4,
 "nbformat_minor": 2
}
