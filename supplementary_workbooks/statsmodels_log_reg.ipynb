{
 "cells": [
  {
   "cell_type": "code",
   "execution_count": null,
   "metadata": {},
   "outputs": [],
   "source": [
    "import statsmodels.api as sm\n",
    "from sklearn.metrics import confusion_matrix, classification_report\n",
    "x_ = sm.add_constant(X_train)\n",
    "mod = sm.Logit(y_train, x_)\n",
    "results = mod.fit()\n",
    "results.summary2()"
   ]
  },
  {
   "cell_type": "code",
   "execution_count": null,
   "metadata": {},
   "outputs": [],
   "source": [
    "X2 = sm.add_constant(X_test)\n",
    "pred = results.predict(X2)\n",
    "err = y_test-pred\n",
    "# Create a confusion matrix with the test data\n",
    "#results.pred_table()\n",
    "\n",
    "err"
   ]
  }
 ],
 "metadata": {
  "language_info": {
   "name": "python"
  },
  "orig_nbformat": 4
 },
 "nbformat": 4,
 "nbformat_minor": 2
}
