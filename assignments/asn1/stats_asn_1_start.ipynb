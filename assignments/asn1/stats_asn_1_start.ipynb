{
 "cells": [
  {
   "cell_type": "code",
   "execution_count": 1,
   "metadata": {},
   "outputs": [],
   "source": [
    "# Useful Imports\n",
    "# Feel free to add or change\n",
    "import thinkplot\n",
    "import thinkstats2\n",
    "import pandas as pd\n",
    "import numpy as np\n",
    "import scipy\n",
    "import seaborn as sns\n",
    "from matplotlib import pyplot as plt"
   ]
  },
  {
   "cell_type": "markdown",
   "metadata": {},
   "source": [
    "# Assginment 1\n",
    "\n",
    "## Assignment Overview\n",
    "\n",
    "In this assignment you'll load some data into a python notebook, and use some basic functions to do some basic analysis. \n",
    "\n",
    "### Preamble\n",
    "\n",
    "One of the things that we can do in notebooks is format things with code and text in a smart and presentable way. One of the things that this assignment will cover is the basics of making things look nice and clear. Text in these markup cells can be formatted with HTML-ish code to make them nice. If you don't know any HTML, it is pretty easy to implement, here's some samples that you can copy for formatting. Overall, the goal here is to make it clear what your answers are, and communicate it to the reader (me). Please use things like headers, labels, lists, etc... to make your findings readable. Double click the text in a markup cell to make it editable and see the markup examples\n",
    "\n",
    "#### Headers\n",
    "\n",
    "Headers can be made by using pound signs in front of the text like above. 1 pound sign is H1 (big header) and the size scales down as more pound signs are added, down to 5. \n",
    "\n",
    "#### Lists\n",
    "\n",
    "Lists can be created using HTML markups. Here is an example of a number and non-numbered list, the non-numbered one has an additional level of indenting:\n",
    "\n",
    "<ol>\n",
    "<li> Some point\n",
    "<li> The next point\n",
    "<li> One more point\n",
    "</ol>\n",
    "\n",
    "<ul>\n",
    "<li> Stuff \n",
    "<li> Lots of stuff with details\n",
    "    <ul>\n",
    "    <li> Sub-point\n",
    "    <li> More sub-points\n",
    "    </ul>\n",
    "<li> More stuff\n",
    "</ul>\n",
    "\n",
    "#### Text Stuff\n",
    "\n",
    "We can also do things like bold and italic, with new lines:\n",
    "\n",
    "<b> I'm bold</b><br>\n",
    "<i> I'm italic</i><br>\n",
    "<b><i> I'm both </i></b><br>\n",
    "\n",
    "#### More Info\n",
    "\n",
    "There is a lot more that can be used to make things pretty. You don't need to be an artist or a web designer, just make it clear. There is a pdf (jupyter_markdown.pdf) in this repository and on Moodle which shows examples of far more stuff.  \n",
    "\n",
    "Take a look at this (https://www.kaggle.com/firefliesqn/tuning-deepsort-helmet-mapping ) for formatting/layout example – sections are labelled, there’s an explanation, it’s easy to read. Ignore the contents, that’s totally different. \n",
    "\n",
    "The goal is to have something that someone can read through and make sense of. \n",
    "\n",
    "## Testing\n",
    "\n",
    "One of the files in this repository is a test harness. This is what I will use to check the answers for the parts that are exact. The only part that is missing from what you have here is a file with the asnwers. \n",
    "\n",
    "You can run this file to check yours as you work, you will need to make a few changes:\n",
    "<ul>\n",
    "<li> The answers in the test harness are currently set to be read from an answer file. You'll want to comment that out, and set those variables to raw values. \n",
    "<li> If you run it, it will check if the results of your code match whatever \"answer\" you provide. \n",
    "<li> This isn't super complex, but it does require a little thought. You don't need to do this for the assignment at all, but if you feel comfortable with the coding, this is good practice. \n",
    "<li> <b>Even if you don't actually use the testing, the test harness shows how your functions will be \"called\" (used), the code in the test harness executes the corresponding functions in your file. This should function, even if you aren't actually checking your results. </b>\n",
    "</ul>\n"
   ]
  },
  {
   "cell_type": "markdown",
   "metadata": {},
   "source": [
    "### Example Function Call\n",
    "\n",
    "Below is a sample function that mirrors what you're being asked to do. \n",
    "\n",
    "<b>Create a function that returns the product of two numbers, plus 1</b>\n",
    "\n",
    "<b>Parameters</b> - Number A and Number B. \n",
    "\n",
    "<b>Return</b> - Those two numbers multiplied, plus 1. \n",
    "\n",
    "<b>Starting function framework</b>\n",
    "\n",
    "    def times_plus_one(numA, numB):\n",
    "        return 0\n",
    "\n",
    "This is our starting point - we know we need to take in the two numbers as input, and generate our goal as output. The function <b>should not</b> pull in any other varaibles from the body of our code, it has all that it needs already. This is important, as someone could take this one function, paste it in other programs, and use it as is - that is effectively what we do with the libraries we import. \n",
    "\n",
    "<b> Now we need to fill in the code...</b>"
   ]
  },
  {
   "cell_type": "code",
   "execution_count": 2,
   "metadata": {},
   "outputs": [],
   "source": [
    "# Fill the body of the function to translate from parameters to the return value. \n",
    "def times_plus_one(numA, numB):\n",
    "    temp_product = numA * numB\n",
    "    return (temp_product + 1)"
   ]
  },
  {
   "cell_type": "markdown",
   "metadata": {},
   "source": [
    "Now we have a function that, hopefully, works. We can test it by calling it and looking at the results. Note that this same function can be used for all kinds of different calculations."
   ]
  },
  {
   "cell_type": "code",
   "execution_count": 3,
   "metadata": {},
   "outputs": [
    {
     "name": "stdout",
     "output_type": "stream",
     "text": [
      "5\n",
      "21\n",
      "16.899100000000004\n"
     ]
    }
   ],
   "source": [
    "print(times_plus_one(2,2))\n",
    "print(times_plus_one(10,2))\n",
    "print(times_plus_one(2.345,6.78))"
   ]
  },
  {
   "cell_type": "markdown",
   "metadata": {},
   "source": [
    "We could even take the value, and compare it to a known answer. This is how we test code to make sure it works without error, we can write a \"test harness\" to run the code, capture the values, and check if they are correct. In real life we could test a large range of values, automatically. Usually the most important tests are those at the \"edges\", or things that are borderline or uncommon. For example, here we'd likely focus on decimals, negatives, 0s, and non-numerical inputs as things we know we need to test. If the function does fine with (2,2), it'll probably be ok with (5,14), but a 0 or -23.452 may be different enough to cause something unexpected. \n",
    "\n",
    "This is how anything that I say will be automatically graded will be assessed - I write a piece of code that looks to run tests, it \"grabs\" your functions (this is why exact naming is critical here), runs some trials, and checks to ensure the answers match mine. "
   ]
  },
  {
   "cell_type": "code",
   "execution_count": 4,
   "metadata": {},
   "outputs": [
    {
     "name": "stdout",
     "output_type": "stream",
     "text": [
      "True\n",
      "True\n"
     ]
    }
   ],
   "source": [
    "# Simple\n",
    "val_2_2 = times_plus_one(2,2)\n",
    "print(val_2_2 == 5)\n",
    "\n",
    "# Or a little more elaborate\n",
    "val_31_72 = times_plus_one(3,7)\n",
    "sol_31_72 = (3.1 * 7.2) + 1\n",
    "print(val_31_72 == sol_31_72)"
   ]
  },
  {
   "cell_type": "markdown",
   "metadata": {},
   "source": [
    "## START HERE ##"
   ]
  },
  {
   "cell_type": "code",
   "execution_count": 5,
   "metadata": {},
   "outputs": [
    {
     "data": {
      "text/html": [
       "<div>\n",
       "<style scoped>\n",
       "    .dataframe tbody tr th:only-of-type {\n",
       "        vertical-align: middle;\n",
       "    }\n",
       "\n",
       "    .dataframe tbody tr th {\n",
       "        vertical-align: top;\n",
       "    }\n",
       "\n",
       "    .dataframe thead th {\n",
       "        text-align: right;\n",
       "    }\n",
       "</style>\n",
       "<table border=\"1\" class=\"dataframe\">\n",
       "  <thead>\n",
       "    <tr style=\"text-align: right;\">\n",
       "      <th></th>\n",
       "      <th>Age</th>\n",
       "      <th>Eduacation</th>\n",
       "      <th>Race</th>\n",
       "      <th>Hisp</th>\n",
       "      <th>MaritalStatus</th>\n",
       "      <th>Nodeg</th>\n",
       "      <th>Earnings_1974</th>\n",
       "      <th>Earnings_1975</th>\n",
       "      <th>Earnings_1978</th>\n",
       "    </tr>\n",
       "  </thead>\n",
       "  <tbody>\n",
       "    <tr>\n",
       "      <th>0</th>\n",
       "      <td>45</td>\n",
       "      <td>LessThanHighSchool</td>\n",
       "      <td>NotBlack</td>\n",
       "      <td>NotHispanic</td>\n",
       "      <td>Married</td>\n",
       "      <td>1</td>\n",
       "      <td>21516.670</td>\n",
       "      <td>25243.550</td>\n",
       "      <td>25564.670</td>\n",
       "    </tr>\n",
       "    <tr>\n",
       "      <th>1</th>\n",
       "      <td>21</td>\n",
       "      <td>Intermediate</td>\n",
       "      <td>NotBlack</td>\n",
       "      <td>NotHispanic</td>\n",
       "      <td>NotMarried</td>\n",
       "      <td>0</td>\n",
       "      <td>3175.971</td>\n",
       "      <td>5852.565</td>\n",
       "      <td>13496.080</td>\n",
       "    </tr>\n",
       "    <tr>\n",
       "      <th>2</th>\n",
       "      <td>38</td>\n",
       "      <td>HighSchool</td>\n",
       "      <td>NotBlack</td>\n",
       "      <td>NotHispanic</td>\n",
       "      <td>Married</td>\n",
       "      <td>0</td>\n",
       "      <td>23039.020</td>\n",
       "      <td>25130.760</td>\n",
       "      <td>25564.670</td>\n",
       "    </tr>\n",
       "    <tr>\n",
       "      <th>3</th>\n",
       "      <td>48</td>\n",
       "      <td>LessThanHighSchool</td>\n",
       "      <td>NotBlack</td>\n",
       "      <td>NotHispanic</td>\n",
       "      <td>Married</td>\n",
       "      <td>1</td>\n",
       "      <td>24994.370</td>\n",
       "      <td>25243.550</td>\n",
       "      <td>25564.670</td>\n",
       "    </tr>\n",
       "    <tr>\n",
       "      <th>4</th>\n",
       "      <td>18</td>\n",
       "      <td>LessThanHighSchool</td>\n",
       "      <td>NotBlack</td>\n",
       "      <td>NotHispanic</td>\n",
       "      <td>Married</td>\n",
       "      <td>1</td>\n",
       "      <td>1669.295</td>\n",
       "      <td>10727.610</td>\n",
       "      <td>9860.869</td>\n",
       "    </tr>\n",
       "  </tbody>\n",
       "</table>\n",
       "</div>"
      ],
      "text/plain": [
       "   Age          Eduacation      Race         Hisp MaritalStatus  Nodeg  \\\n",
       "0   45  LessThanHighSchool  NotBlack  NotHispanic       Married      1   \n",
       "1   21        Intermediate  NotBlack  NotHispanic    NotMarried      0   \n",
       "2   38          HighSchool  NotBlack  NotHispanic       Married      0   \n",
       "3   48  LessThanHighSchool  NotBlack  NotHispanic       Married      1   \n",
       "4   18  LessThanHighSchool  NotBlack  NotHispanic       Married      1   \n",
       "\n",
       "   Earnings_1974  Earnings_1975  Earnings_1978  \n",
       "0      21516.670      25243.550      25564.670  \n",
       "1       3175.971       5852.565      13496.080  \n",
       "2      23039.020      25130.760      25564.670  \n",
       "3      24994.370      25243.550      25564.670  \n",
       "4       1669.295      10727.610       9860.869  "
      ]
     },
     "execution_count": 5,
     "metadata": {},
     "output_type": "execute_result"
    }
   ],
   "source": [
    "# Load/preview data\n",
    "df = pd.read_csv(\"LabourTrainingEvaluationData.csv\")\n",
    "df.head()"
   ]
  },
  {
   "cell_type": "markdown",
   "metadata": {},
   "source": [
    "### Part 1 - Age\n",
    "\n",
    "<ol>\n",
    "<li> Make and plot a Hist and Pmf for age.\n",
    "<li> What fraction of the people in the data are 51? What fraction are older than 51?\n",
    "<li> What is the median age? \n",
    "<li> Does the distribution of the sample data seem to mirror the working age population?\n",
    "</ol>\n"
   ]
  },
  {
   "cell_type": "markdown",
   "metadata": {},
   "source": [
    "#### Part 1 - Answers"
   ]
  },
  {
   "cell_type": "code",
   "execution_count": 6,
   "metadata": {},
   "outputs": [],
   "source": [
    "# 1.1 Plot the HIST and PMF for AGE"
   ]
  },
  {
   "cell_type": "code",
   "execution_count": 7,
   "metadata": {},
   "outputs": [],
   "source": [
    "# 1.2 Create functions to answer points 2 and 3\n",
    "\n",
    "# For this function, the parameter \"older\" should control if the \n",
    "# function returns the people who are 51 (False), or the people who are\n",
    "# older than 51 (True). Here it is defaulted to False. \n",
    "def fraction51(older=False):\n",
    "    return 0\n",
    "\n",
    "def medianAge():\n",
    "    return 0"
   ]
  },
  {
   "cell_type": "markdown",
   "metadata": {},
   "source": [
    "##### Point 5 - Place Answer Here"
   ]
  },
  {
   "cell_type": "markdown",
   "metadata": {},
   "source": [
    "### Part 2 - Demographics\n",
    "\n",
    "<ol>\n",
    "<li>Consider some of the demographic features: \n",
    "    <ol>\n",
    "    <li>Education\n",
    "    <li>Race\n",
    "    <li>Hisp\n",
    "    <li>MaritalStatus\n",
    "    <li>Nodeg. \n",
    "    </ol>\n",
    "<li>This data came from the United States, does it appear to be a representative sample of the US population?*\n",
    "<li>Demonstrate this in some way in your code. \n",
    "</ol>\n",
    "\n",
    "Note: you do not need to do deep research on the demographics of the USA to answer this. A high level judegement is fine. "
   ]
  },
  {
   "cell_type": "markdown",
   "metadata": {},
   "source": [
    "##### Point 2 - Place Answer Here"
   ]
  },
  {
   "cell_type": "code",
   "execution_count": 8,
   "metadata": {},
   "outputs": [],
   "source": [
    "# Point 3 - Illustrative Code Here"
   ]
  },
  {
   "cell_type": "markdown",
   "metadata": {},
   "source": [
    "### Part 3 - Earnings\n",
    "\n",
    "<ol>\n",
    "<li>Make and plot a graph or graph of your choosing of the 3 earnings values, in order to answer the below question. Identify how the graph gave you your answer.\n",
    "<li>What is one conclusion could you draw from visualizing of the earnings in the different year? Please express it in plain language/non-statistics terms/as though you were explaining to one of your friends what happened to earnings between 1974 and 1978?\n",
    "<li>Which has the greatest effect size on 1978 earnings: Race, Hispanic, MaritalStatus, or Nodeg? \n",
    "<li>What could you investigate further in an attempt to explain this?\n",
    "<li>Plot a histogram and PMF, and compute useful descriptive statistics (think: average...) for the 1978 earnings value. Use the \"Cohorts\" code from the quiz to break the data into cohorts, plotting each group (either on one chart, or separately, whichever makes the most sense for examining the data - state specifically why you chose 1 vs many charts.\n",
    "<li>What is the difference in median income between the groups?\n",
    "<li>Theorize a reason for the difference between the groups that could be explained with more data. Briefly describe the data you'd need. This does not need to be something you have data for, or know how to solve right now - just one well founded hypothesis on what might explain the difference.\n",
    "<li>Are there outliers in the 1978 earnings data? Demonstrate this in some way with your code. \n",
    "<li>What can you infer from the presence of outliers that may impact analysis of this data\n",
    "</ol>"
   ]
  },
  {
   "cell_type": "code",
   "execution_count": 9,
   "metadata": {},
   "outputs": [],
   "source": [
    "# Point 1 - Graph of earnings"
   ]
  },
  {
   "cell_type": "markdown",
   "metadata": {},
   "source": [
    "##### Point 2 - Place Answer Here"
   ]
  },
  {
   "cell_type": "code",
   "execution_count": 10,
   "metadata": {},
   "outputs": [],
   "source": [
    "# Point 3 - Largest Impact\n",
    "def largestImpact():\n",
    "    return 0"
   ]
  },
  {
   "cell_type": "markdown",
   "metadata": {},
   "source": [
    "##### Point 4 - Place Answer Here"
   ]
  },
  {
   "cell_type": "code",
   "execution_count": 11,
   "metadata": {},
   "outputs": [],
   "source": [
    "# Point 5 - Chart"
   ]
  },
  {
   "cell_type": "code",
   "execution_count": 12,
   "metadata": {},
   "outputs": [],
   "source": [
    "# Point 6 - difference in medians\n",
    "def differenceMedians():\n",
    "    return 0"
   ]
  },
  {
   "cell_type": "markdown",
   "metadata": {},
   "source": [
    "##### Point 7 - Place Answer Here"
   ]
  },
  {
   "cell_type": "code",
   "execution_count": 13,
   "metadata": {},
   "outputs": [],
   "source": [
    "# Point 8 - outliers"
   ]
  },
  {
   "cell_type": "markdown",
   "metadata": {},
   "source": [
    "##### Point 9 - Place Answer Here"
   ]
  }
 ],
 "metadata": {
  "kernelspec": {
   "display_name": "Python 3.9.7 ('ml3950')",
   "language": "python",
   "name": "python3"
  },
  "language_info": {
   "codemirror_mode": {
    "name": "ipython",
    "version": 3
   },
   "file_extension": ".py",
   "mimetype": "text/x-python",
   "name": "python",
   "nbconvert_exporter": "python",
   "pygments_lexer": "ipython3",
   "version": "3.9.7"
  },
  "orig_nbformat": 4,
  "vscode": {
   "interpreter": {
    "hash": "4d722d3adfa415172c1f5238b519fb86b488acdae450fd691ab06c09f4ca9173"
   }
  }
 },
 "nbformat": 4,
 "nbformat_minor": 2
}
